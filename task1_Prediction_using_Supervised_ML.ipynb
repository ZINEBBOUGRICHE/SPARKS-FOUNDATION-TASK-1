{
  "nbformat": 4,
  "nbformat_minor": 0,
  "metadata": {
    "colab": {
      "name": "task1_Prediction using Supervised ML.ipynb",
      "provenance": [],
      "collapsed_sections": []
    },
    "kernelspec": {
      "name": "python3",
      "display_name": "Python 3"
    },
    "language_info": {
      "name": "python"
    }
  },
  "cells": [
    {
      "cell_type": "markdown",
      "source": [
        "## **LetsStart**\n",
        "\n",
        "💪\n"
      ],
      "metadata": {
        "id": "PQ1dkSLDJ0hX"
      }
    },
    {
      "cell_type": "markdown",
      "source": [
        "## **Biginner level task :**"
      ],
      "metadata": {
        "id": "tWvk83cjKENZ"
      }
    },
    {
      "cell_type": "markdown",
      "source": [
        "## **Task 1 : Prediction using Supervised ML**"
      ],
      "metadata": {
        "id": "1aHrRjjnKMC3"
      }
    },
    {
      "cell_type": "markdown",
      "source": [
        "## **AUTHOR ✍ : ZINEB BOUGRICHE**"
      ],
      "metadata": {
        "id": "z8DNJAKdKZvZ"
      }
    },
    {
      "cell_type": "markdown",
      "source": [
        "## **Dataset:**\n",
        "http://bit.ly/w-data"
      ],
      "metadata": {
        "id": "nATpiLPUKrCj"
      }
    },
    {
      "cell_type": "code",
      "execution_count": 1,
      "metadata": {
        "id": "hYAGHXLADU8L"
      },
      "outputs": [],
      "source": [
        "#Importing libraries\n",
        "import pandas as pd\n",
        "import numpy as np\n",
        "import matplotlib.pyplot as plt\n",
        "%matplotlib inline\n"
      ]
    },
    {
      "cell_type": "code",
      "source": [
        "# read the data set\n",
        "Url = \"http://bit.ly/w-data\"\n",
        "data = pd.read_csv(Url)\n",
        "print(\"Data imported successfully\")\n",
        "print(\"\\nModified Stlying DataFrame:\") \n",
        "data.style.set_properties(**{'background-color': 'with', \n",
        "                           'color': 'red'})\n"
      ],
      "metadata": {
        "colab": {
          "base_uri": "https://localhost:8080/",
          "height": 885
        },
        "id": "Jak82n-eG8Pq",
        "outputId": "4435bb2c-d600-41bc-d31f-77c8507dc887"
      },
      "execution_count": 2,
      "outputs": [
        {
          "output_type": "stream",
          "name": "stdout",
          "text": [
            "Data imported successfully\n",
            "\n",
            "Modified Stlying DataFrame:\n"
          ]
        },
        {
          "output_type": "execute_result",
          "data": {
            "text/plain": [
              "<pandas.io.formats.style.Styler at 0x7f432d8f3750>"
            ],
            "text/html": [
              "<style type=\"text/css\">\n",
              "#T_1a06b_row0_col0, #T_1a06b_row0_col1, #T_1a06b_row1_col0, #T_1a06b_row1_col1, #T_1a06b_row2_col0, #T_1a06b_row2_col1, #T_1a06b_row3_col0, #T_1a06b_row3_col1, #T_1a06b_row4_col0, #T_1a06b_row4_col1, #T_1a06b_row5_col0, #T_1a06b_row5_col1, #T_1a06b_row6_col0, #T_1a06b_row6_col1, #T_1a06b_row7_col0, #T_1a06b_row7_col1, #T_1a06b_row8_col0, #T_1a06b_row8_col1, #T_1a06b_row9_col0, #T_1a06b_row9_col1, #T_1a06b_row10_col0, #T_1a06b_row10_col1, #T_1a06b_row11_col0, #T_1a06b_row11_col1, #T_1a06b_row12_col0, #T_1a06b_row12_col1, #T_1a06b_row13_col0, #T_1a06b_row13_col1, #T_1a06b_row14_col0, #T_1a06b_row14_col1, #T_1a06b_row15_col0, #T_1a06b_row15_col1, #T_1a06b_row16_col0, #T_1a06b_row16_col1, #T_1a06b_row17_col0, #T_1a06b_row17_col1, #T_1a06b_row18_col0, #T_1a06b_row18_col1, #T_1a06b_row19_col0, #T_1a06b_row19_col1, #T_1a06b_row20_col0, #T_1a06b_row20_col1, #T_1a06b_row21_col0, #T_1a06b_row21_col1, #T_1a06b_row22_col0, #T_1a06b_row22_col1, #T_1a06b_row23_col0, #T_1a06b_row23_col1, #T_1a06b_row24_col0, #T_1a06b_row24_col1 {\n",
              "  background-color: with;\n",
              "  color: red;\n",
              "}\n",
              "</style>\n",
              "<table id=\"T_1a06b_\" class=\"dataframe\">\n",
              "  <thead>\n",
              "    <tr>\n",
              "      <th class=\"blank level0\" >&nbsp;</th>\n",
              "      <th class=\"col_heading level0 col0\" >Hours</th>\n",
              "      <th class=\"col_heading level0 col1\" >Scores</th>\n",
              "    </tr>\n",
              "  </thead>\n",
              "  <tbody>\n",
              "    <tr>\n",
              "      <th id=\"T_1a06b_level0_row0\" class=\"row_heading level0 row0\" >0</th>\n",
              "      <td id=\"T_1a06b_row0_col0\" class=\"data row0 col0\" >2.500000</td>\n",
              "      <td id=\"T_1a06b_row0_col1\" class=\"data row0 col1\" >21</td>\n",
              "    </tr>\n",
              "    <tr>\n",
              "      <th id=\"T_1a06b_level0_row1\" class=\"row_heading level0 row1\" >1</th>\n",
              "      <td id=\"T_1a06b_row1_col0\" class=\"data row1 col0\" >5.100000</td>\n",
              "      <td id=\"T_1a06b_row1_col1\" class=\"data row1 col1\" >47</td>\n",
              "    </tr>\n",
              "    <tr>\n",
              "      <th id=\"T_1a06b_level0_row2\" class=\"row_heading level0 row2\" >2</th>\n",
              "      <td id=\"T_1a06b_row2_col0\" class=\"data row2 col0\" >3.200000</td>\n",
              "      <td id=\"T_1a06b_row2_col1\" class=\"data row2 col1\" >27</td>\n",
              "    </tr>\n",
              "    <tr>\n",
              "      <th id=\"T_1a06b_level0_row3\" class=\"row_heading level0 row3\" >3</th>\n",
              "      <td id=\"T_1a06b_row3_col0\" class=\"data row3 col0\" >8.500000</td>\n",
              "      <td id=\"T_1a06b_row3_col1\" class=\"data row3 col1\" >75</td>\n",
              "    </tr>\n",
              "    <tr>\n",
              "      <th id=\"T_1a06b_level0_row4\" class=\"row_heading level0 row4\" >4</th>\n",
              "      <td id=\"T_1a06b_row4_col0\" class=\"data row4 col0\" >3.500000</td>\n",
              "      <td id=\"T_1a06b_row4_col1\" class=\"data row4 col1\" >30</td>\n",
              "    </tr>\n",
              "    <tr>\n",
              "      <th id=\"T_1a06b_level0_row5\" class=\"row_heading level0 row5\" >5</th>\n",
              "      <td id=\"T_1a06b_row5_col0\" class=\"data row5 col0\" >1.500000</td>\n",
              "      <td id=\"T_1a06b_row5_col1\" class=\"data row5 col1\" >20</td>\n",
              "    </tr>\n",
              "    <tr>\n",
              "      <th id=\"T_1a06b_level0_row6\" class=\"row_heading level0 row6\" >6</th>\n",
              "      <td id=\"T_1a06b_row6_col0\" class=\"data row6 col0\" >9.200000</td>\n",
              "      <td id=\"T_1a06b_row6_col1\" class=\"data row6 col1\" >88</td>\n",
              "    </tr>\n",
              "    <tr>\n",
              "      <th id=\"T_1a06b_level0_row7\" class=\"row_heading level0 row7\" >7</th>\n",
              "      <td id=\"T_1a06b_row7_col0\" class=\"data row7 col0\" >5.500000</td>\n",
              "      <td id=\"T_1a06b_row7_col1\" class=\"data row7 col1\" >60</td>\n",
              "    </tr>\n",
              "    <tr>\n",
              "      <th id=\"T_1a06b_level0_row8\" class=\"row_heading level0 row8\" >8</th>\n",
              "      <td id=\"T_1a06b_row8_col0\" class=\"data row8 col0\" >8.300000</td>\n",
              "      <td id=\"T_1a06b_row8_col1\" class=\"data row8 col1\" >81</td>\n",
              "    </tr>\n",
              "    <tr>\n",
              "      <th id=\"T_1a06b_level0_row9\" class=\"row_heading level0 row9\" >9</th>\n",
              "      <td id=\"T_1a06b_row9_col0\" class=\"data row9 col0\" >2.700000</td>\n",
              "      <td id=\"T_1a06b_row9_col1\" class=\"data row9 col1\" >25</td>\n",
              "    </tr>\n",
              "    <tr>\n",
              "      <th id=\"T_1a06b_level0_row10\" class=\"row_heading level0 row10\" >10</th>\n",
              "      <td id=\"T_1a06b_row10_col0\" class=\"data row10 col0\" >7.700000</td>\n",
              "      <td id=\"T_1a06b_row10_col1\" class=\"data row10 col1\" >85</td>\n",
              "    </tr>\n",
              "    <tr>\n",
              "      <th id=\"T_1a06b_level0_row11\" class=\"row_heading level0 row11\" >11</th>\n",
              "      <td id=\"T_1a06b_row11_col0\" class=\"data row11 col0\" >5.900000</td>\n",
              "      <td id=\"T_1a06b_row11_col1\" class=\"data row11 col1\" >62</td>\n",
              "    </tr>\n",
              "    <tr>\n",
              "      <th id=\"T_1a06b_level0_row12\" class=\"row_heading level0 row12\" >12</th>\n",
              "      <td id=\"T_1a06b_row12_col0\" class=\"data row12 col0\" >4.500000</td>\n",
              "      <td id=\"T_1a06b_row12_col1\" class=\"data row12 col1\" >41</td>\n",
              "    </tr>\n",
              "    <tr>\n",
              "      <th id=\"T_1a06b_level0_row13\" class=\"row_heading level0 row13\" >13</th>\n",
              "      <td id=\"T_1a06b_row13_col0\" class=\"data row13 col0\" >3.300000</td>\n",
              "      <td id=\"T_1a06b_row13_col1\" class=\"data row13 col1\" >42</td>\n",
              "    </tr>\n",
              "    <tr>\n",
              "      <th id=\"T_1a06b_level0_row14\" class=\"row_heading level0 row14\" >14</th>\n",
              "      <td id=\"T_1a06b_row14_col0\" class=\"data row14 col0\" >1.100000</td>\n",
              "      <td id=\"T_1a06b_row14_col1\" class=\"data row14 col1\" >17</td>\n",
              "    </tr>\n",
              "    <tr>\n",
              "      <th id=\"T_1a06b_level0_row15\" class=\"row_heading level0 row15\" >15</th>\n",
              "      <td id=\"T_1a06b_row15_col0\" class=\"data row15 col0\" >8.900000</td>\n",
              "      <td id=\"T_1a06b_row15_col1\" class=\"data row15 col1\" >95</td>\n",
              "    </tr>\n",
              "    <tr>\n",
              "      <th id=\"T_1a06b_level0_row16\" class=\"row_heading level0 row16\" >16</th>\n",
              "      <td id=\"T_1a06b_row16_col0\" class=\"data row16 col0\" >2.500000</td>\n",
              "      <td id=\"T_1a06b_row16_col1\" class=\"data row16 col1\" >30</td>\n",
              "    </tr>\n",
              "    <tr>\n",
              "      <th id=\"T_1a06b_level0_row17\" class=\"row_heading level0 row17\" >17</th>\n",
              "      <td id=\"T_1a06b_row17_col0\" class=\"data row17 col0\" >1.900000</td>\n",
              "      <td id=\"T_1a06b_row17_col1\" class=\"data row17 col1\" >24</td>\n",
              "    </tr>\n",
              "    <tr>\n",
              "      <th id=\"T_1a06b_level0_row18\" class=\"row_heading level0 row18\" >18</th>\n",
              "      <td id=\"T_1a06b_row18_col0\" class=\"data row18 col0\" >6.100000</td>\n",
              "      <td id=\"T_1a06b_row18_col1\" class=\"data row18 col1\" >67</td>\n",
              "    </tr>\n",
              "    <tr>\n",
              "      <th id=\"T_1a06b_level0_row19\" class=\"row_heading level0 row19\" >19</th>\n",
              "      <td id=\"T_1a06b_row19_col0\" class=\"data row19 col0\" >7.400000</td>\n",
              "      <td id=\"T_1a06b_row19_col1\" class=\"data row19 col1\" >69</td>\n",
              "    </tr>\n",
              "    <tr>\n",
              "      <th id=\"T_1a06b_level0_row20\" class=\"row_heading level0 row20\" >20</th>\n",
              "      <td id=\"T_1a06b_row20_col0\" class=\"data row20 col0\" >2.700000</td>\n",
              "      <td id=\"T_1a06b_row20_col1\" class=\"data row20 col1\" >30</td>\n",
              "    </tr>\n",
              "    <tr>\n",
              "      <th id=\"T_1a06b_level0_row21\" class=\"row_heading level0 row21\" >21</th>\n",
              "      <td id=\"T_1a06b_row21_col0\" class=\"data row21 col0\" >4.800000</td>\n",
              "      <td id=\"T_1a06b_row21_col1\" class=\"data row21 col1\" >54</td>\n",
              "    </tr>\n",
              "    <tr>\n",
              "      <th id=\"T_1a06b_level0_row22\" class=\"row_heading level0 row22\" >22</th>\n",
              "      <td id=\"T_1a06b_row22_col0\" class=\"data row22 col0\" >3.800000</td>\n",
              "      <td id=\"T_1a06b_row22_col1\" class=\"data row22 col1\" >35</td>\n",
              "    </tr>\n",
              "    <tr>\n",
              "      <th id=\"T_1a06b_level0_row23\" class=\"row_heading level0 row23\" >23</th>\n",
              "      <td id=\"T_1a06b_row23_col0\" class=\"data row23 col0\" >6.900000</td>\n",
              "      <td id=\"T_1a06b_row23_col1\" class=\"data row23 col1\" >76</td>\n",
              "    </tr>\n",
              "    <tr>\n",
              "      <th id=\"T_1a06b_level0_row24\" class=\"row_heading level0 row24\" >24</th>\n",
              "      <td id=\"T_1a06b_row24_col0\" class=\"data row24 col0\" >7.800000</td>\n",
              "      <td id=\"T_1a06b_row24_col1\" class=\"data row24 col1\" >86</td>\n",
              "    </tr>\n",
              "  </tbody>\n",
              "</table>\n"
            ]
          },
          "metadata": {},
          "execution_count": 2
        }
      ]
    },
    {
      "cell_type": "code",
      "source": [
        "data.head(10)"
      ],
      "metadata": {
        "colab": {
          "base_uri": "https://localhost:8080/",
          "height": 363
        },
        "id": "HKV34qWIIURw",
        "outputId": "3d7fecf2-5472-4929-8b5f-95e7f4978b67"
      },
      "execution_count": 3,
      "outputs": [
        {
          "output_type": "execute_result",
          "data": {
            "text/plain": [
              "   Hours  Scores\n",
              "0    2.5      21\n",
              "1    5.1      47\n",
              "2    3.2      27\n",
              "3    8.5      75\n",
              "4    3.5      30\n",
              "5    1.5      20\n",
              "6    9.2      88\n",
              "7    5.5      60\n",
              "8    8.3      81\n",
              "9    2.7      25"
            ],
            "text/html": [
              "\n",
              "  <div id=\"df-091254c2-3ae0-40d6-babe-abf9a2fe8184\">\n",
              "    <div class=\"colab-df-container\">\n",
              "      <div>\n",
              "<style scoped>\n",
              "    .dataframe tbody tr th:only-of-type {\n",
              "        vertical-align: middle;\n",
              "    }\n",
              "\n",
              "    .dataframe tbody tr th {\n",
              "        vertical-align: top;\n",
              "    }\n",
              "\n",
              "    .dataframe thead th {\n",
              "        text-align: right;\n",
              "    }\n",
              "</style>\n",
              "<table border=\"1\" class=\"dataframe\">\n",
              "  <thead>\n",
              "    <tr style=\"text-align: right;\">\n",
              "      <th></th>\n",
              "      <th>Hours</th>\n",
              "      <th>Scores</th>\n",
              "    </tr>\n",
              "  </thead>\n",
              "  <tbody>\n",
              "    <tr>\n",
              "      <th>0</th>\n",
              "      <td>2.5</td>\n",
              "      <td>21</td>\n",
              "    </tr>\n",
              "    <tr>\n",
              "      <th>1</th>\n",
              "      <td>5.1</td>\n",
              "      <td>47</td>\n",
              "    </tr>\n",
              "    <tr>\n",
              "      <th>2</th>\n",
              "      <td>3.2</td>\n",
              "      <td>27</td>\n",
              "    </tr>\n",
              "    <tr>\n",
              "      <th>3</th>\n",
              "      <td>8.5</td>\n",
              "      <td>75</td>\n",
              "    </tr>\n",
              "    <tr>\n",
              "      <th>4</th>\n",
              "      <td>3.5</td>\n",
              "      <td>30</td>\n",
              "    </tr>\n",
              "    <tr>\n",
              "      <th>5</th>\n",
              "      <td>1.5</td>\n",
              "      <td>20</td>\n",
              "    </tr>\n",
              "    <tr>\n",
              "      <th>6</th>\n",
              "      <td>9.2</td>\n",
              "      <td>88</td>\n",
              "    </tr>\n",
              "    <tr>\n",
              "      <th>7</th>\n",
              "      <td>5.5</td>\n",
              "      <td>60</td>\n",
              "    </tr>\n",
              "    <tr>\n",
              "      <th>8</th>\n",
              "      <td>8.3</td>\n",
              "      <td>81</td>\n",
              "    </tr>\n",
              "    <tr>\n",
              "      <th>9</th>\n",
              "      <td>2.7</td>\n",
              "      <td>25</td>\n",
              "    </tr>\n",
              "  </tbody>\n",
              "</table>\n",
              "</div>\n",
              "      <button class=\"colab-df-convert\" onclick=\"convertToInteractive('df-091254c2-3ae0-40d6-babe-abf9a2fe8184')\"\n",
              "              title=\"Convert this dataframe to an interactive table.\"\n",
              "              style=\"display:none;\">\n",
              "        \n",
              "  <svg xmlns=\"http://www.w3.org/2000/svg\" height=\"24px\"viewBox=\"0 0 24 24\"\n",
              "       width=\"24px\">\n",
              "    <path d=\"M0 0h24v24H0V0z\" fill=\"none\"/>\n",
              "    <path d=\"M18.56 5.44l.94 2.06.94-2.06 2.06-.94-2.06-.94-.94-2.06-.94 2.06-2.06.94zm-11 1L8.5 8.5l.94-2.06 2.06-.94-2.06-.94L8.5 2.5l-.94 2.06-2.06.94zm10 10l.94 2.06.94-2.06 2.06-.94-2.06-.94-.94-2.06-.94 2.06-2.06.94z\"/><path d=\"M17.41 7.96l-1.37-1.37c-.4-.4-.92-.59-1.43-.59-.52 0-1.04.2-1.43.59L10.3 9.45l-7.72 7.72c-.78.78-.78 2.05 0 2.83L4 21.41c.39.39.9.59 1.41.59.51 0 1.02-.2 1.41-.59l7.78-7.78 2.81-2.81c.8-.78.8-2.07 0-2.86zM5.41 20L4 18.59l7.72-7.72 1.47 1.35L5.41 20z\"/>\n",
              "  </svg>\n",
              "      </button>\n",
              "      \n",
              "  <style>\n",
              "    .colab-df-container {\n",
              "      display:flex;\n",
              "      flex-wrap:wrap;\n",
              "      gap: 12px;\n",
              "    }\n",
              "\n",
              "    .colab-df-convert {\n",
              "      background-color: #E8F0FE;\n",
              "      border: none;\n",
              "      border-radius: 50%;\n",
              "      cursor: pointer;\n",
              "      display: none;\n",
              "      fill: #1967D2;\n",
              "      height: 32px;\n",
              "      padding: 0 0 0 0;\n",
              "      width: 32px;\n",
              "    }\n",
              "\n",
              "    .colab-df-convert:hover {\n",
              "      background-color: #E2EBFA;\n",
              "      box-shadow: 0px 1px 2px rgba(60, 64, 67, 0.3), 0px 1px 3px 1px rgba(60, 64, 67, 0.15);\n",
              "      fill: #174EA6;\n",
              "    }\n",
              "\n",
              "    [theme=dark] .colab-df-convert {\n",
              "      background-color: #3B4455;\n",
              "      fill: #D2E3FC;\n",
              "    }\n",
              "\n",
              "    [theme=dark] .colab-df-convert:hover {\n",
              "      background-color: #434B5C;\n",
              "      box-shadow: 0px 1px 3px 1px rgba(0, 0, 0, 0.15);\n",
              "      filter: drop-shadow(0px 1px 2px rgba(0, 0, 0, 0.3));\n",
              "      fill: #FFFFFF;\n",
              "    }\n",
              "  </style>\n",
              "\n",
              "      <script>\n",
              "        const buttonEl =\n",
              "          document.querySelector('#df-091254c2-3ae0-40d6-babe-abf9a2fe8184 button.colab-df-convert');\n",
              "        buttonEl.style.display =\n",
              "          google.colab.kernel.accessAllowed ? 'block' : 'none';\n",
              "\n",
              "        async function convertToInteractive(key) {\n",
              "          const element = document.querySelector('#df-091254c2-3ae0-40d6-babe-abf9a2fe8184');\n",
              "          const dataTable =\n",
              "            await google.colab.kernel.invokeFunction('convertToInteractive',\n",
              "                                                     [key], {});\n",
              "          if (!dataTable) return;\n",
              "\n",
              "          const docLinkHtml = 'Like what you see? Visit the ' +\n",
              "            '<a target=\"_blank\" href=https://colab.research.google.com/notebooks/data_table.ipynb>data table notebook</a>'\n",
              "            + ' to learn more about interactive tables.';\n",
              "          element.innerHTML = '';\n",
              "          dataTable['output_type'] = 'display_data';\n",
              "          await google.colab.output.renderOutput(dataTable, element);\n",
              "          const docLink = document.createElement('div');\n",
              "          docLink.innerHTML = docLinkHtml;\n",
              "          element.appendChild(docLink);\n",
              "        }\n",
              "      </script>\n",
              "    </div>\n",
              "  </div>\n",
              "  "
            ]
          },
          "metadata": {},
          "execution_count": 3
        }
      ]
    },
    {
      "cell_type": "code",
      "source": [
        "# Plotting \n",
        "data.plot(x='Hours', y='Scores', style='o',color='red',figsize=(8,5))  \n",
        "plt.title('Hours vs Scores')  \n",
        "plt.xlabel('Hours')  \n",
        "plt.ylabel('Scores')  \n",
        "plt.show()"
      ],
      "metadata": {
        "colab": {
          "base_uri": "https://localhost:8080/",
          "height": 350
        },
        "id": "Yfq57lqQMgtC",
        "outputId": "dfa8cf42-dc45-44c0-f8c8-2c2993bea8ec"
      },
      "execution_count": 26,
      "outputs": [
        {
          "output_type": "display_data",
          "data": {
            "text/plain": [
              "<Figure size 576x360 with 1 Axes>"
            ],
            "image/png": "[encoded data removed]"
          },
          "metadata": {
            "needs_background": "light"
          }
        }
      ]
    },
    {
      "cell_type": "code",
      "source": [
        "#divide the data into inputs and outputs\n",
        "X = data.iloc[:, :-1].values  \n",
        "y = data.iloc[:, 1].values  "
      ],
      "metadata": {
        "id": "V2LfuDJlViRt"
      },
      "execution_count": 7,
      "outputs": []
    },
    {
      "cell_type": "code",
      "source": [
        "from sklearn.model_selection import train_test_split  \n",
        "X_train, X_test, y_train, y_test = train_test_split(X, y, \n",
        "                            test_size=0.2, random_state=0)"
      ],
      "metadata": {
        "id": "xWMKSx5OWCcD"
      },
      "execution_count": 8,
      "outputs": []
    },
    {
      "cell_type": "code",
      "source": [
        "#data training\n",
        "from sklearn.linear_model import LinearRegression  \n",
        "regressor = LinearRegression()  \n",
        "regressor.fit(X_train, y_train) \n",
        "\n",
        "print(\"Training complete.\")"
      ],
      "metadata": {
        "colab": {
          "base_uri": "https://localhost:8080/"
        },
        "id": "NRLI-kZYWLfs",
        "outputId": "18785ec9-34ba-4746-c223-e90ccc14134d"
      },
      "execution_count": 9,
      "outputs": [
        {
          "output_type": "stream",
          "name": "stdout",
          "text": [
            "Training complete.\n"
          ]
        }
      ]
    },
    {
      "cell_type": "code",
      "source": [
        "# Plotting the regression line\n",
        "line = regressor.coef_*X+regressor.intercept_\n",
        "\n",
        "# Plotting for the test data\n",
        "plt.figure(figsize=(8,5))\n",
        "plt.scatter(X, y)\n",
        "plt.plot(X, line);\n",
        "plt.show()"
      ],
      "metadata": {
        "colab": {
          "base_uri": "https://localhost:8080/",
          "height": 320
        },
        "id": "7ICMnFenWc41",
        "outputId": "6d83ba33-3ba6-4038-841c-a5692e7f06ff"
      },
      "execution_count": 25,
      "outputs": [
        {
          "output_type": "display_data",
          "data": {
            "text/plain": [
              "<Figure size 576x360 with 1 Axes>"
            ],
            "image/png": "[encoded data removed]"
          },
          "metadata": {
            "needs_background": "light"
          }
        }
      ]
    },
    {
      "cell_type": "code",
      "source": [
        "# make a test\n",
        "print(X_test) \n",
        "y_pred = regressor.predict(X_test) "
      ],
      "metadata": {
        "colab": {
          "base_uri": "https://localhost:8080/"
        },
        "id": "0tMtJIXuW-jv",
        "outputId": "749d4b3a-5a2f-4dbb-9ef0-858174f40066"
      },
      "execution_count": 11,
      "outputs": [
        {
          "output_type": "stream",
          "name": "stdout",
          "text": [
            "[[1.5]\n",
            " [3.2]\n",
            " [7.4]\n",
            " [2.5]\n",
            " [5.9]]\n"
          ]
        }
      ]
    },
    {
      "cell_type": "code",
      "source": [
        "# Comparing Test vs Predicted\n",
        "df = pd.DataFrame({'Test': y_test, 'Predicted': y_pred})  \n",
        "df"
      ],
      "metadata": {
        "colab": {
          "base_uri": "https://localhost:8080/",
          "height": 206
        },
        "id": "-UyR0hZAXWfj",
        "outputId": "6376595a-ca8c-4de7-a690-710d39fe428c"
      },
      "execution_count": 12,
      "outputs": [
        {
          "output_type": "execute_result",
          "data": {
            "text/plain": [
              "   Test  Predicted\n",
              "0    20  16.884145\n",
              "1    27  33.732261\n",
              "2    69  75.357018\n",
              "3    30  26.794801\n",
              "4    62  60.491033"
            ],
            "text/html": [
              "\n",
              "  <div id=\"df-e6691528-23c2-4b06-ba1c-82c1867701a1\">\n",
              "    <div class=\"colab-df-container\">\n",
              "      <div>\n",
              "<style scoped>\n",
              "    .dataframe tbody tr th:only-of-type {\n",
              "        vertical-align: middle;\n",
              "    }\n",
              "\n",
              "    .dataframe tbody tr th {\n",
              "        vertical-align: top;\n",
              "    }\n",
              "\n",
              "    .dataframe thead th {\n",
              "        text-align: right;\n",
              "    }\n",
              "</style>\n",
              "<table border=\"1\" class=\"dataframe\">\n",
              "  <thead>\n",
              "    <tr style=\"text-align: right;\">\n",
              "      <th></th>\n",
              "      <th>Test</th>\n",
              "      <th>Predicted</th>\n",
              "    </tr>\n",
              "  </thead>\n",
              "  <tbody>\n",
              "    <tr>\n",
              "      <th>0</th>\n",
              "      <td>20</td>\n",
              "      <td>16.884145</td>\n",
              "    </tr>\n",
              "    <tr>\n",
              "      <th>1</th>\n",
              "      <td>27</td>\n",
              "      <td>33.732261</td>\n",
              "    </tr>\n",
              "    <tr>\n",
              "      <th>2</th>\n",
              "      <td>69</td>\n",
              "      <td>75.357018</td>\n",
              "    </tr>\n",
              "    <tr>\n",
              "      <th>3</th>\n",
              "      <td>30</td>\n",
              "      <td>26.794801</td>\n",
              "    </tr>\n",
              "    <tr>\n",
              "      <th>4</th>\n",
              "      <td>62</td>\n",
              "      <td>60.491033</td>\n",
              "    </tr>\n",
              "  </tbody>\n",
              "</table>\n",
              "</div>\n",
              "      <button class=\"colab-df-convert\" onclick=\"convertToInteractive('df-e6691528-23c2-4b06-ba1c-82c1867701a1')\"\n",
              "              title=\"Convert this dataframe to an interactive table.\"\n",
              "              style=\"display:none;\">\n",
              "        \n",
              "  <svg xmlns=\"http://www.w3.org/2000/svg\" height=\"24px\"viewBox=\"0 0 24 24\"\n",
              "       width=\"24px\">\n",
              "    <path d=\"M0 0h24v24H0V0z\" fill=\"none\"/>\n",
              "    <path d=\"M18.56 5.44l.94 2.06.94-2.06 2.06-.94-2.06-.94-.94-2.06-.94 2.06-2.06.94zm-11 1L8.5 8.5l.94-2.06 2.06-.94-2.06-.94L8.5 2.5l-.94 2.06-2.06.94zm10 10l.94 2.06.94-2.06 2.06-.94-2.06-.94-.94-2.06-.94 2.06-2.06.94z\"/><path d=\"M17.41 7.96l-1.37-1.37c-.4-.4-.92-.59-1.43-.59-.52 0-1.04.2-1.43.59L10.3 9.45l-7.72 7.72c-.78.78-.78 2.05 0 2.83L4 21.41c.39.39.9.59 1.41.59.51 0 1.02-.2 1.41-.59l7.78-7.78 2.81-2.81c.8-.78.8-2.07 0-2.86zM5.41 20L4 18.59l7.72-7.72 1.47 1.35L5.41 20z\"/>\n",
              "  </svg>\n",
              "      </button>\n",
              "      \n",
              "  <style>\n",
              "    .colab-df-container {\n",
              "      display:flex;\n",
              "      flex-wrap:wrap;\n",
              "      gap: 12px;\n",
              "    }\n",
              "\n",
              "    .colab-df-convert {\n",
              "      background-color: #E8F0FE;\n",
              "      border: none;\n",
              "      border-radius: 50%;\n",
              "      cursor: pointer;\n",
              "      display: none;\n",
              "      fill: #1967D2;\n",
              "      height: 32px;\n",
              "      padding: 0 0 0 0;\n",
              "      width: 32px;\n",
              "    }\n",
              "\n",
              "    .colab-df-convert:hover {\n",
              "      background-color: #E2EBFA;\n",
              "      box-shadow: 0px 1px 2px rgba(60, 64, 67, 0.3), 0px 1px 3px 1px rgba(60, 64, 67, 0.15);\n",
              "      fill: #174EA6;\n",
              "    }\n",
              "\n",
              "    [theme=dark] .colab-df-convert {\n",
              "      background-color: #3B4455;\n",
              "      fill: #D2E3FC;\n",
              "    }\n",
              "\n",
              "    [theme=dark] .colab-df-convert:hover {\n",
              "      background-color: #434B5C;\n",
              "      box-shadow: 0px 1px 3px 1px rgba(0, 0, 0, 0.15);\n",
              "      filter: drop-shadow(0px 1px 2px rgba(0, 0, 0, 0.3));\n",
              "      fill: #FFFFFF;\n",
              "    }\n",
              "  </style>\n",
              "\n",
              "      <script>\n",
              "        const buttonEl =\n",
              "          document.querySelector('#df-e6691528-23c2-4b06-ba1c-82c1867701a1 button.colab-df-convert');\n",
              "        buttonEl.style.display =\n",
              "          google.colab.kernel.accessAllowed ? 'block' : 'none';\n",
              "\n",
              "        async function convertToInteractive(key) {\n",
              "          const element = document.querySelector('#df-e6691528-23c2-4b06-ba1c-82c1867701a1');\n",
              "          const dataTable =\n",
              "            await google.colab.kernel.invokeFunction('convertToInteractive',\n",
              "                                                     [key], {});\n",
              "          if (!dataTable) return;\n",
              "\n",
              "          const docLinkHtml = 'Like what you see? Visit the ' +\n",
              "            '<a target=\"_blank\" href=https://colab.research.google.com/notebooks/data_table.ipynb>data table notebook</a>'\n",
              "            + ' to learn more about interactive tables.';\n",
              "          element.innerHTML = '';\n",
              "          dataTable['output_type'] = 'display_data';\n",
              "          await google.colab.output.renderOutput(dataTable, element);\n",
              "          const docLink = document.createElement('div');\n",
              "          docLink.innerHTML = docLinkHtml;\n",
              "          element.appendChild(docLink);\n",
              "        }\n",
              "      </script>\n",
              "    </div>\n",
              "  </div>\n",
              "  "
            ]
          },
          "metadata": {},
          "execution_count": 12
        }
      ]
    },
    {
      "cell_type": "code",
      "source": [
        "# predicted score if a student studies for 9.25h\n",
        "hours = 9.25\n",
        "own_pred = regressor.predict(np.array([hours]).reshape(1, 1))\n",
        "print(\"No of Hours = {}\".format(hours))\n",
        "print(\"Predicted Score = {}\".format(own_pred[0]))"
      ],
      "metadata": {
        "colab": {
          "base_uri": "https://localhost:8080/"
        },
        "id": "_ii8tiBaX1k0",
        "outputId": "5bbeba13-8919-44ae-8bbb-1e26a7905e59"
      },
      "execution_count": 13,
      "outputs": [
        {
          "output_type": "stream",
          "name": "stdout",
          "text": [
            "No of Hours = 9.25\n",
            "Predicted Score = 93.69173248737539\n"
          ]
        }
      ]
    },
    {
      "cell_type": "markdown",
      "source": [
        "**Any questions?**"
      ],
      "metadata": {
        "id": "YJlrazmgQ1lp"
      }
    }
  ]
}